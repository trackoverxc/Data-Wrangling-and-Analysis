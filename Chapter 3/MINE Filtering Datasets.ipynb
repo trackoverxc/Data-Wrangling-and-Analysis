{
 "cells": [
  {
   "cell_type": "code",
   "execution_count": 1,
   "metadata": {},
   "outputs": [],
   "source": [
    "import pandas as pd"
   ]
  },
  {
   "cell_type": "code",
   "execution_count": 2,
   "metadata": {},
   "outputs": [],
   "source": [
    "eu_trade = pd.read_csv('ext_lt_intratrd.tsv', sep='\\t')"
   ]
  },
  {
   "cell_type": "code",
   "execution_count": 3,
   "metadata": {},
   "outputs": [
    {
     "data": {
      "text/plain": [
       "indic_et,sitc06,partner,geo\\time    object\n",
       "2015                                object\n",
       "2014                                object\n",
       "2013                                object\n",
       "2012                                object\n",
       "2011                                object\n",
       "2010                                object\n",
       "2009                                object\n",
       "2008                                object\n",
       "2007                                object\n",
       "2006                                object\n",
       "2005                                object\n",
       "2004                                object\n",
       "2003                                object\n",
       "2002                                object\n",
       "2001                                object\n",
       "2000                                object\n",
       "1999                                object\n",
       "dtype: object"
      ]
     },
     "execution_count": 3,
     "metadata": {},
     "output_type": "execute_result"
    }
   ],
   "source": [
    "eu_trade.dtypes"
   ]
  },
  {
   "cell_type": "code",
   "execution_count": 5,
   "metadata": {},
   "outputs": [
    {
     "data": {
      "text/plain": [
       "<bound method NDFrame.head of      indic_et,sitc06,partner,geo\\time   2015    2014    2013    2012    2011   \\\n",
       "0         CONT_EXP_EU,SITC0_1,EU27,AT    2.4     2.5     2.4     2.5     2.5    \n",
       "1         CONT_EXP_EU,SITC0_1,EU27,BE    9.1     9.0     9.0     9.2     9.1    \n",
       "2         CONT_EXP_EU,SITC0_1,EU27,BG    0.6     0.6     0.6     0.6     0.6    \n",
       "3         CONT_EXP_EU,SITC0_1,EU27,CY    0.1     0.1     0.1     0.0     0.1    \n",
       "4         CONT_EXP_EU,SITC0_1,EU27,CZ    1.9     1.7     1.6     1.6     1.5    \n",
       "5         CONT_EXP_EU,SITC0_1,EU27,DE   16.0    16.3    16.3    16.0    16.0    \n",
       "6         CONT_EXP_EU,SITC0_1,EU27,DK    3.4     3.6     3.6     3.7     3.8    \n",
       "7         CONT_EXP_EU,SITC0_1,EU27,EE    0.2     0.3     0.3     0.3     0.2    \n",
       "8         CONT_EXP_EU,SITC0_1,EU27,EL    1.1     1.1     1.0     1.1     1.1    \n",
       "9         CONT_EXP_EU,SITC0_1,EU27,ES    9.3     8.8     8.8     8.7     8.6    \n",
       "10      CONT_EXP_EU,SITC0_1,EU27,EU27  100.0   100.0   100.0   100.0   100.0    \n",
       "11        CONT_EXP_EU,SITC0_1,EU27,FI    0.3     0.3     0.3     0.3     0.3    \n",
       "12        CONT_EXP_EU,SITC0_1,EU27,FR   10.9    11.6    12.1    12.3    12.6    \n",
       "13        CONT_EXP_EU,SITC0_1,EU27,HU    1.7     1.7     1.8     1.9     1.9    \n",
       "14        CONT_EXP_EU,SITC0_1,EU27,IE    2.6     2.5     2.5     2.5     2.6    \n",
       "15        CONT_EXP_EU,SITC0_1,EU27,IT    7.0     6.9     6.8     6.9     7.0    \n",
       "16        CONT_EXP_EU,SITC0_1,EU27,LT    0.8     0.8     0.7     0.7     0.7    \n",
       "17        CONT_EXP_EU,SITC0_1,EU27,LU    0.4     0.4     0.3     0.3     0.3    \n",
       "18        CONT_EXP_EU,SITC0_1,EU27,LV    0.3     0.3     0.4     0.4     0.3    \n",
       "19        CONT_EXP_EU,SITC0_1,EU27,MT    0.0     0.0     0.0     0.0     0.0    \n",
       "20        CONT_EXP_EU,SITC0_1,EU27,NL   16.3    16.7    16.9    16.7    17.1    \n",
       "21        CONT_EXP_EU,SITC0_1,EU27,PL    5.7     5.4     5.0     4.7     4.2    \n",
       "22        CONT_EXP_EU,SITC0_1,EU27,PT    1.3     1.2     1.2     1.1     1.2    \n",
       "23        CONT_EXP_EU,SITC0_1,EU27,RO    0.9     0.9     0.8     0.8     0.8    \n",
       "24        CONT_EXP_EU,SITC0_1,EU27,SE    1.8     1.8     1.7     1.6     1.6    \n",
       "25        CONT_EXP_EU,SITC0_1,EU27,SI    0.3     0.3     0.3     0.4     0.3    \n",
       "26        CONT_EXP_EU,SITC0_1,EU27,SK    0.7     0.7     0.8     0.9     0.8    \n",
       "27        CONT_EXP_EU,SITC0_1,EU27,UK    4.8     4.7     4.6     4.8     4.9    \n",
       "28        CONT_EXP_EU,SITC0_1,EU28,AT    2.4     2.5     2.5     2.5     2.5    \n",
       "29        CONT_EXP_EU,SITC0_1,EU28,BE    9.0     8.9     8.9     9.2     9.1    \n",
       "...                               ...     ...     ...     ...     ...     ...   \n",
       "9298     PC_TOT_IMP,TOTAL,EXT_EU27,UK   46.4    47.0    48.2    52.4    51.8    \n",
       "9299     PC_TOT_IMP,TOTAL,EXT_EU28,AT   23.3    23.2    23.4    23.5    22.6    \n",
       "9300     PC_TOT_IMP,TOTAL,EXT_EU28,BE   37.1    35.0    33.6    32.4    32.3    \n",
       "9301     PC_TOT_IMP,TOTAL,EXT_EU28,BG   35.6    38.3    40.3    41.2    40.5    \n",
       "9302     PC_TOT_IMP,TOTAL,EXT_EU28,CY   26.4    28.6    29.5    30.8    30.8    \n",
       "9303     PC_TOT_IMP,TOTAL,EXT_EU28,CZ   22.8    22.6    23.2    24.6    25.3    \n",
       "9304     PC_TOT_IMP,TOTAL,EXT_EU28,DE   34.3    34.5    35.3    36.4    36.5    \n",
       "9305     PC_TOT_IMP,TOTAL,EXT_EU28,DK   30.7    30.6    30.0    29.2    29.5    \n",
       "9306     PC_TOT_IMP,TOTAL,EXT_EU28,EE   18.2    18.3    17.9    22.2    23.6    \n",
       "9307     PC_TOT_IMP,TOTAL,EXT_EU28,EL   47.3    51.5    52.7    54.0    48.4    \n",
       "9308     PC_TOT_IMP,TOTAL,EXT_EU28,ES   39.4    42.7    44.7    45.8    43.1    \n",
       "9309   PC_TOT_IMP,TOTAL,EXT_EU28,EU28   36.7    37.2    37.9    39.3    38.5    \n",
       "9310     PC_TOT_IMP,TOTAL,EXT_EU28,FI   27.1    31.9    33.7    37.2    38.5    \n",
       "9311     PC_TOT_IMP,TOTAL,EXT_EU28,FR   31.7    32.3    32.2    32.9    32.6    \n",
       "9312     PC_TOT_IMP,TOTAL,EXT_EU28,HR   22.3    23.8    33.1    37.5    38.2    \n",
       "9313     PC_TOT_IMP,TOTAL,EXT_EU28,HU   23.8    24.8    28.3    29.3    30.2    \n",
       "9314     PC_TOT_IMP,TOTAL,EXT_EU28,IE   33.5    33.5    32.7    33.1    30.5    \n",
       "9315     PC_TOT_IMP,TOTAL,EXT_EU28,IT   41.5    42.9    44.6    46.7    45.9    \n",
       "9316     PC_TOT_IMP,TOTAL,EXT_EU28,LT   33.0    34.4    39.7    42.4    43.2    \n",
       "9317     PC_TOT_IMP,TOTAL,EXT_EU28,LU   27.9    20.0    20.8    22.8    18.4    \n",
       "9318     PC_TOT_IMP,TOTAL,EXT_EU28,LV   20.3    19.5    20.0    21.8    22.3    \n",
       "9319     PC_TOT_IMP,TOTAL,EXT_EU28,MT   34.7    37.3    29.0    22.9    26.2    \n",
       "9320     PC_TOT_IMP,TOTAL,EXT_EU28,NL   54.4    54.2    53.7    54.6    53.3    \n",
       "9321     PC_TOT_IMP,TOTAL,EXT_EU28,PL   29.6    30.4    31.0    32.3    30.0    \n",
       "9322     PC_TOT_IMP,TOTAL,EXT_EU28,PT   23.5    25.2    28.0    28.5    26.7    \n",
       "9323     PC_TOT_IMP,TOTAL,EXT_EU28,RO   22.9    24.6    24.2    26.4    27.2    \n",
       "9324     PC_TOT_IMP,TOTAL,EXT_EU28,SE   30.1    31.2    31.1    32.7    31.8    \n",
       "9325     PC_TOT_IMP,TOTAL,EXT_EU28,SI   30.1    30.9    29.9    28.0    27.8    \n",
       "9326     PC_TOT_IMP,TOTAL,EXT_EU28,SK   21.3    23.9    25.7    26.3    26.7    \n",
       "9327     PC_TOT_IMP,TOTAL,EXT_EU28,UK   46.4    47.0    48.2    52.4    51.7    \n",
       "\n",
       "       2010    2009    2008    2007    2006    2005    2004    2003    2002   \\\n",
       "0       2.5     2.6     2.6     2.6     2.6     2.5     2.4     2.4     2.1    \n",
       "1       9.1     9.6     9.4     9.5     9.6     9.9    10.1    10.2    10.4    \n",
       "2       0.6     0.5     0.4     0.3     0.2     0.2     0.2     0.2     0.2    \n",
       "3       0.1     0.1     0.1     0.1     0.1     0.1     0.1     0.1     0.1    \n",
       "4       1.4     1.4     1.4     1.3     1.1     1.1     0.9     0.7     0.7    \n",
       "5      16.0    16.4    16.3    16.2    15.7    15.5    14.7    14.4    14.1    \n",
       "6       4.1     4.1     4.1     4.3     4.8     4.6     4.7     4.8     5.1    \n",
       "7       0.2     0.2     0.2     0.2     0.2     0.2     0.1     0.1     0.1    \n",
       "8       1.2     1.2     1.1     1.1     1.1     1.1     1.1     0.9     0.9    \n",
       "9       8.7     8.6     8.4     8.3     8.6     8.8     9.2     9.7     9.3    \n",
       "10    100.0   100.0   100.0   100.0   100.0   100.0   100.0   100.0   100.0    \n",
       "11      0.3     0.3     0.3     0.3     0.3     0.3     0.3     0.3     0.3    \n",
       "12     12.2    12.8    13.5    13.9    14.1    14.4    15.3    15.9    15.9    \n",
       "13      1.6     1.5     1.6     1.5     1.2     1.1     1.1     1.1     1.0    \n",
       "14      2.6     2.6     2.7     3.1     3.2     3.1     3.2     3.2     3.2    \n",
       "15      7.2     7.1     7.1     7.1     7.0     7.1     7.2     7.1     7.3    \n",
       "16      0.6     0.6     0.6     0.6     0.5     0.4     0.3     0.2     0.2    \n",
       "17      0.3     0.3     0.3     0.3     0.3     0.4     0.4     0.4     0.4    \n",
       "18      0.3     0.2     0.2     0.2     0.2     0.2     0.1     0.1     0.1    \n",
       "19      0.0     0.0     0.0     0.0     0.0     0.0     0.0     0.0     0.0    \n",
       "20     17.4    17.2    17.3    17.1    17.3    17.7    18.1    18.2    18.7    \n",
       "21      4.1     3.8     3.7     3.4     3.1     2.7     2.1     1.5     1.3    \n",
       "22      1.2     1.2     1.2     1.1     1.1     1.0     0.9     0.9     0.9    \n",
       "23      0.7     0.6     0.4     0.3     0.2     0.2     0.2     0.2     0.2    \n",
       "24      1.6     1.5     1.4     1.4     1.4     1.3     1.2     1.1     1.0    \n",
       "25      0.3     0.3     0.3     0.3     0.2     0.1     0.1     0.1     0.1    \n",
       "26      0.7     0.7     0.6     0.7     0.6     0.5     0.4     0.3     0.3    \n",
       "27      5.0     4.8     4.9     5.1     5.2     5.3     5.7     5.9     6.0    \n",
       "28      2.6     2.6     2.7     2.6     2.6     2.5     2.5     2.4     2.2    \n",
       "29      9.1     9.6     9.4     9.4     9.6     9.9    10.1    10.2    10.4    \n",
       "...      ...     ...     ...     ...     ...     ...     ...     ...     ...   \n",
       "9298   51.0    50.5    48.7    46.3    43.8    44.0    44.0    43.3    42.7    \n",
       "9299   22.0    21.6    21.3    20.1    19.7    18.9    16.4    17.6    18.7    \n",
       "9300   30.9    29.6    30.1    29.4    28.5    27.9    27.1    26.4    27.1    \n",
       "9301   41.3    39.8    43.0    41.2    38.6    37.0    42.6    42.0    42.2    \n",
       "9302   29.5    27.5    32.0    30.9    31.2    30.6    30.4    39.6    42.4    \n",
       "9303   25.0    21.9    23.0    19.8    19.4    18.5    19.6    28.5    27.3    \n",
       "9304   36.7    35.3    36.3    35.3    36.2    35.4    34.2    33.8    34.2    \n",
       "9305   30.1    30.1    28.3    27.1    27.7    29.0    29.1    26.6    25.2    \n",
       "9306   20.2    19.6    20.2    21.4    25.5    23.7    26.2    35.0    31.1    \n",
       "9307   47.3    42.2    44.2    41.8    40.9    39.1    37.1    41.6    44.2    \n",
       "9308   41.0    37.6    40.7    37.0    38.2    35.8    32.0    30.7    30.8    \n",
       "9309   38.1    36.5    37.3    35.7    36.0    35.4    33.8    33.8    34.1    \n",
       "9310   35.8    34.9    37.9    35.9    36.0    33.3    32.6    31.7    30.1    \n",
       "9311   31.5    30.5    31.8    30.5    30.8    32.4    30.3    29.7    31.4    \n",
       "9312   39.8    37.3    35.9    35.2    32.8    31.9    28.4    26.8    28.1    \n",
       "9313   32.0    31.1    31.4    30.2    29.5    29.8    31.2    35.3    34.8    \n",
       "9314   32.6    34.5    30.1    30.0    31.5    33.3    34.1    37.2    32.9    \n",
       "9315   44.8    42.1    45.0    41.9    42.0    40.1    37.2    36.3    36.8    \n",
       "9316   43.4    40.9    42.4    31.6    37.2    40.5    36.5    43.9    43.1    \n",
       "9317   19.8    28.6    25.3    26.3    29.4    27.6    24.0    22.5    16.7    \n",
       "9318   23.9    24.5    24.4    22.5    23.4    24.6    24.2    24.4    22.4    \n",
       "9319   29.8    25.0    23.6    26.0    29.3    24.1    26.7    31.8    31.8    \n",
       "9320   53.1    50.9    51.9    50.8    51.3    50.5    46.8    45.1    44.8    \n",
       "9321   29.2    27.3    28.1    26.6    26.9    24.6    24.6    30.3    30.2    \n",
       "9322   23.6    21.4    25.2    23.4    23.0    22.4    22.9    20.5    20.1    \n",
       "9323   27.4    26.8    30.2    28.6    36.5    36.8    33.8    31.7    31.8    \n",
       "9324   32.9    32.0    30.8    28.9    30.3    29.5    27.7    28.0    28.9    \n",
       "9325   27.5    24.7    24.6    21.6    17.7    16.0    13.5    19.9    18.9    \n",
       "9326   27.9    25.0    26.8    25.2    24.6    22.0    21.0    25.5    26.8    \n",
       "9327   51.0    50.5    48.6    46.3    43.7    44.0    43.9    43.3    42.7    \n",
       "\n",
       "       2001    2000    1999   \n",
       "0       2.1     2.0     1.9   \n",
       "1      10.5    10.4    10.6   \n",
       "2       0.2     0.1     0.2   \n",
       "3       0.1     0.1     0.1   \n",
       "4       0.6     0.6     0.5   \n",
       "5      14.2    13.7    13.1   \n",
       "6       5.3     5.2     5.1   \n",
       "7       0.1     0.1     0.1   \n",
       "8       1.2     1.2     1.2   \n",
       "9       9.2     8.6     7.7   \n",
       "10    100.0   100.0   100.0   \n",
       "11      0.3     0.3     0.3   \n",
       "12     15.7    16.9    17.9   \n",
       "13      1.1     1.0     1.0   \n",
       "14      3.2     3.4     3.4   \n",
       "15      7.3     7.1     7.5   \n",
       "16      0.2     0.2     0.1   \n",
       "17      0.4     0.4     0.4   \n",
       "18      0.1     0.0     0.0   \n",
       "19      0.0     0.0     0.0   \n",
       "20     18.7    18.7    18.8   \n",
       "21      1.3     1.2     1.1   \n",
       "22      0.9     0.9     0.8   \n",
       "23      0.2     0.1     0.1   \n",
       "24      0.9     0.9     0.9   \n",
       "25      0.0     0.1     0.1   \n",
       "26      0.2     0.2     0.2   \n",
       "27      5.9     6.7     7.0   \n",
       "28        :       :       :   \n",
       "29        :       :       :   \n",
       "...      ...     ...     ...  \n",
       "9298   46.4    48.2    45.2   \n",
       "9299   19.0    19.4    17.4   \n",
       "9300   28.0    29.1    27.7   \n",
       "9301   42.9    47.0    45.1   \n",
       "9302   41.0    41.4    41.1   \n",
       "9303   25.3    24.7    23.3   \n",
       "9304   35.3    36.7    33.8   \n",
       "9305   27.3    27.8    26.5   \n",
       "9306   33.6    29.4    26.8   \n",
       "9307   36.7    35.0    29.9   \n",
       "9308   31.3    32.3    30.0   \n",
       "9309      :       :       :   \n",
       "9310   30.6    33.1    30.8   \n",
       "9311   32.4    32.7    31.3   \n",
       "9312      :       :       :   \n",
       "9313   33.9    33.7    28.1   \n",
       "9314   33.0    36.6    37.1   \n",
       "9315   37.7    38.7    34.0   \n",
       "9316   45.2    45.1    39.7   \n",
       "9317   18.6    16.1    17.6   \n",
       "9318   23.9    25.7    24.2   \n",
       "9319   35.3    39.4    33.9   \n",
       "9320   46.1    46.7    42.7   \n",
       "9321   30.3    31.0    27.7   \n",
       "9322   23.3    23.5    21.1   \n",
       "9323   32.9    34.7    30.9   \n",
       "9324   30.0    31.6    28.7   \n",
       "9325   18.7    18.7    18.2   \n",
       "9326   27.9    29.7    25.3   \n",
       "9327   46.4    48.1    45.2   \n",
       "\n",
       "[9328 rows x 18 columns]>"
      ]
     },
     "execution_count": 5,
     "metadata": {},
     "output_type": "execute_result"
    }
   ],
   "source": [
    "eu_trade.head"
   ]
  },
  {
   "cell_type": "code",
   "execution_count": 6,
   "metadata": {},
   "outputs": [
    {
     "data": {
      "text/plain": [
       "Index(['indic_et,sitc06,partner,geo\\time', '2015 ', '2014 ', '2013 ', '2012 ',\n",
       "       '2011 ', '2010 ', '2009 ', '2008 ', '2007 ', '2006 ', '2005 ', '2004 ',\n",
       "       '2003 ', '2002 ', '2001 ', '2000 ', '1999 '],\n",
       "      dtype='object')"
      ]
     },
     "execution_count": 6,
     "metadata": {},
     "output_type": "execute_result"
    }
   ],
   "source": [
    "eu_trade.columns"
   ]
  },
  {
   "cell_type": "code",
   "execution_count": 7,
   "metadata": {},
   "outputs": [
    {
     "ename": "KeyError",
     "evalue": "'2013'",
     "output_type": "error",
     "traceback": [
      "\u001b[1;31m---------------------------------------------------------------------------\u001b[0m",
      "\u001b[1;31mKeyError\u001b[0m                                  Traceback (most recent call last)",
      "\u001b[1;32m~\\AppData\\Local\\Continuum\\Anaconda3\\envs\\python36\\lib\\site-packages\\pandas\\core\\indexes\\base.py\u001b[0m in \u001b[0;36mget_loc\u001b[1;34m(self, key, method, tolerance)\u001b[0m\n\u001b[0;32m   2524\u001b[0m             \u001b[1;32mtry\u001b[0m\u001b[1;33m:\u001b[0m\u001b[1;33m\u001b[0m\u001b[0m\n\u001b[1;32m-> 2525\u001b[1;33m                 \u001b[1;32mreturn\u001b[0m \u001b[0mself\u001b[0m\u001b[1;33m.\u001b[0m\u001b[0m_engine\u001b[0m\u001b[1;33m.\u001b[0m\u001b[0mget_loc\u001b[0m\u001b[1;33m(\u001b[0m\u001b[0mkey\u001b[0m\u001b[1;33m)\u001b[0m\u001b[1;33m\u001b[0m\u001b[0m\n\u001b[0m\u001b[0;32m   2526\u001b[0m             \u001b[1;32mexcept\u001b[0m \u001b[0mKeyError\u001b[0m\u001b[1;33m:\u001b[0m\u001b[1;33m\u001b[0m\u001b[0m\n",
      "\u001b[1;32mpandas/_libs/index.pyx\u001b[0m in \u001b[0;36mpandas._libs.index.IndexEngine.get_loc\u001b[1;34m()\u001b[0m\n",
      "\u001b[1;32mpandas/_libs/index.pyx\u001b[0m in \u001b[0;36mpandas._libs.index.IndexEngine.get_loc\u001b[1;34m()\u001b[0m\n",
      "\u001b[1;32mpandas/_libs/hashtable_class_helper.pxi\u001b[0m in \u001b[0;36mpandas._libs.hashtable.PyObjectHashTable.get_item\u001b[1;34m()\u001b[0m\n",
      "\u001b[1;32mpandas/_libs/hashtable_class_helper.pxi\u001b[0m in \u001b[0;36mpandas._libs.hashtable.PyObjectHashTable.get_item\u001b[1;34m()\u001b[0m\n",
      "\u001b[1;31mKeyError\u001b[0m: '2013'",
      "\nDuring handling of the above exception, another exception occurred:\n",
      "\u001b[1;31mKeyError\u001b[0m                                  Traceback (most recent call last)",
      "\u001b[1;32m<ipython-input-7-0c83519cf357>\u001b[0m in \u001b[0;36m<module>\u001b[1;34m()\u001b[0m\n\u001b[1;32m----> 1\u001b[1;33m \u001b[0meu_trade\u001b[0m\u001b[1;33m[\u001b[0m\u001b[1;34m'2013'\u001b[0m\u001b[1;33m]\u001b[0m\u001b[1;33m\u001b[0m\u001b[0m\n\u001b[0m",
      "\u001b[1;32m~\\AppData\\Local\\Continuum\\Anaconda3\\envs\\python36\\lib\\site-packages\\pandas\\core\\frame.py\u001b[0m in \u001b[0;36m__getitem__\u001b[1;34m(self, key)\u001b[0m\n\u001b[0;32m   2137\u001b[0m             \u001b[1;32mreturn\u001b[0m \u001b[0mself\u001b[0m\u001b[1;33m.\u001b[0m\u001b[0m_getitem_multilevel\u001b[0m\u001b[1;33m(\u001b[0m\u001b[0mkey\u001b[0m\u001b[1;33m)\u001b[0m\u001b[1;33m\u001b[0m\u001b[0m\n\u001b[0;32m   2138\u001b[0m         \u001b[1;32melse\u001b[0m\u001b[1;33m:\u001b[0m\u001b[1;33m\u001b[0m\u001b[0m\n\u001b[1;32m-> 2139\u001b[1;33m             \u001b[1;32mreturn\u001b[0m \u001b[0mself\u001b[0m\u001b[1;33m.\u001b[0m\u001b[0m_getitem_column\u001b[0m\u001b[1;33m(\u001b[0m\u001b[0mkey\u001b[0m\u001b[1;33m)\u001b[0m\u001b[1;33m\u001b[0m\u001b[0m\n\u001b[0m\u001b[0;32m   2140\u001b[0m \u001b[1;33m\u001b[0m\u001b[0m\n\u001b[0;32m   2141\u001b[0m     \u001b[1;32mdef\u001b[0m \u001b[0m_getitem_column\u001b[0m\u001b[1;33m(\u001b[0m\u001b[0mself\u001b[0m\u001b[1;33m,\u001b[0m \u001b[0mkey\u001b[0m\u001b[1;33m)\u001b[0m\u001b[1;33m:\u001b[0m\u001b[1;33m\u001b[0m\u001b[0m\n",
      "\u001b[1;32m~\\AppData\\Local\\Continuum\\Anaconda3\\envs\\python36\\lib\\site-packages\\pandas\\core\\frame.py\u001b[0m in \u001b[0;36m_getitem_column\u001b[1;34m(self, key)\u001b[0m\n\u001b[0;32m   2144\u001b[0m         \u001b[1;31m# get column\u001b[0m\u001b[1;33m\u001b[0m\u001b[1;33m\u001b[0m\u001b[0m\n\u001b[0;32m   2145\u001b[0m         \u001b[1;32mif\u001b[0m \u001b[0mself\u001b[0m\u001b[1;33m.\u001b[0m\u001b[0mcolumns\u001b[0m\u001b[1;33m.\u001b[0m\u001b[0mis_unique\u001b[0m\u001b[1;33m:\u001b[0m\u001b[1;33m\u001b[0m\u001b[0m\n\u001b[1;32m-> 2146\u001b[1;33m             \u001b[1;32mreturn\u001b[0m \u001b[0mself\u001b[0m\u001b[1;33m.\u001b[0m\u001b[0m_get_item_cache\u001b[0m\u001b[1;33m(\u001b[0m\u001b[0mkey\u001b[0m\u001b[1;33m)\u001b[0m\u001b[1;33m\u001b[0m\u001b[0m\n\u001b[0m\u001b[0;32m   2147\u001b[0m \u001b[1;33m\u001b[0m\u001b[0m\n\u001b[0;32m   2148\u001b[0m         \u001b[1;31m# duplicate columns & possible reduce dimensionality\u001b[0m\u001b[1;33m\u001b[0m\u001b[1;33m\u001b[0m\u001b[0m\n",
      "\u001b[1;32m~\\AppData\\Local\\Continuum\\Anaconda3\\envs\\python36\\lib\\site-packages\\pandas\\core\\generic.py\u001b[0m in \u001b[0;36m_get_item_cache\u001b[1;34m(self, item)\u001b[0m\n\u001b[0;32m   1840\u001b[0m         \u001b[0mres\u001b[0m \u001b[1;33m=\u001b[0m \u001b[0mcache\u001b[0m\u001b[1;33m.\u001b[0m\u001b[0mget\u001b[0m\u001b[1;33m(\u001b[0m\u001b[0mitem\u001b[0m\u001b[1;33m)\u001b[0m\u001b[1;33m\u001b[0m\u001b[0m\n\u001b[0;32m   1841\u001b[0m         \u001b[1;32mif\u001b[0m \u001b[0mres\u001b[0m \u001b[1;32mis\u001b[0m \u001b[1;32mNone\u001b[0m\u001b[1;33m:\u001b[0m\u001b[1;33m\u001b[0m\u001b[0m\n\u001b[1;32m-> 1842\u001b[1;33m             \u001b[0mvalues\u001b[0m \u001b[1;33m=\u001b[0m \u001b[0mself\u001b[0m\u001b[1;33m.\u001b[0m\u001b[0m_data\u001b[0m\u001b[1;33m.\u001b[0m\u001b[0mget\u001b[0m\u001b[1;33m(\u001b[0m\u001b[0mitem\u001b[0m\u001b[1;33m)\u001b[0m\u001b[1;33m\u001b[0m\u001b[0m\n\u001b[0m\u001b[0;32m   1843\u001b[0m             \u001b[0mres\u001b[0m \u001b[1;33m=\u001b[0m \u001b[0mself\u001b[0m\u001b[1;33m.\u001b[0m\u001b[0m_box_item_values\u001b[0m\u001b[1;33m(\u001b[0m\u001b[0mitem\u001b[0m\u001b[1;33m,\u001b[0m \u001b[0mvalues\u001b[0m\u001b[1;33m)\u001b[0m\u001b[1;33m\u001b[0m\u001b[0m\n\u001b[0;32m   1844\u001b[0m             \u001b[0mcache\u001b[0m\u001b[1;33m[\u001b[0m\u001b[0mitem\u001b[0m\u001b[1;33m]\u001b[0m \u001b[1;33m=\u001b[0m \u001b[0mres\u001b[0m\u001b[1;33m\u001b[0m\u001b[0m\n",
      "\u001b[1;32m~\\AppData\\Local\\Continuum\\Anaconda3\\envs\\python36\\lib\\site-packages\\pandas\\core\\internals.py\u001b[0m in \u001b[0;36mget\u001b[1;34m(self, item, fastpath)\u001b[0m\n\u001b[0;32m   3841\u001b[0m \u001b[1;33m\u001b[0m\u001b[0m\n\u001b[0;32m   3842\u001b[0m             \u001b[1;32mif\u001b[0m \u001b[1;32mnot\u001b[0m \u001b[0misna\u001b[0m\u001b[1;33m(\u001b[0m\u001b[0mitem\u001b[0m\u001b[1;33m)\u001b[0m\u001b[1;33m:\u001b[0m\u001b[1;33m\u001b[0m\u001b[0m\n\u001b[1;32m-> 3843\u001b[1;33m                 \u001b[0mloc\u001b[0m \u001b[1;33m=\u001b[0m \u001b[0mself\u001b[0m\u001b[1;33m.\u001b[0m\u001b[0mitems\u001b[0m\u001b[1;33m.\u001b[0m\u001b[0mget_loc\u001b[0m\u001b[1;33m(\u001b[0m\u001b[0mitem\u001b[0m\u001b[1;33m)\u001b[0m\u001b[1;33m\u001b[0m\u001b[0m\n\u001b[0m\u001b[0;32m   3844\u001b[0m             \u001b[1;32melse\u001b[0m\u001b[1;33m:\u001b[0m\u001b[1;33m\u001b[0m\u001b[0m\n\u001b[0;32m   3845\u001b[0m                 \u001b[0mindexer\u001b[0m \u001b[1;33m=\u001b[0m \u001b[0mnp\u001b[0m\u001b[1;33m.\u001b[0m\u001b[0marange\u001b[0m\u001b[1;33m(\u001b[0m\u001b[0mlen\u001b[0m\u001b[1;33m(\u001b[0m\u001b[0mself\u001b[0m\u001b[1;33m.\u001b[0m\u001b[0mitems\u001b[0m\u001b[1;33m)\u001b[0m\u001b[1;33m)\u001b[0m\u001b[1;33m[\u001b[0m\u001b[0misna\u001b[0m\u001b[1;33m(\u001b[0m\u001b[0mself\u001b[0m\u001b[1;33m.\u001b[0m\u001b[0mitems\u001b[0m\u001b[1;33m)\u001b[0m\u001b[1;33m]\u001b[0m\u001b[1;33m\u001b[0m\u001b[0m\n",
      "\u001b[1;32m~\\AppData\\Local\\Continuum\\Anaconda3\\envs\\python36\\lib\\site-packages\\pandas\\core\\indexes\\base.py\u001b[0m in \u001b[0;36mget_loc\u001b[1;34m(self, key, method, tolerance)\u001b[0m\n\u001b[0;32m   2525\u001b[0m                 \u001b[1;32mreturn\u001b[0m \u001b[0mself\u001b[0m\u001b[1;33m.\u001b[0m\u001b[0m_engine\u001b[0m\u001b[1;33m.\u001b[0m\u001b[0mget_loc\u001b[0m\u001b[1;33m(\u001b[0m\u001b[0mkey\u001b[0m\u001b[1;33m)\u001b[0m\u001b[1;33m\u001b[0m\u001b[0m\n\u001b[0;32m   2526\u001b[0m             \u001b[1;32mexcept\u001b[0m \u001b[0mKeyError\u001b[0m\u001b[1;33m:\u001b[0m\u001b[1;33m\u001b[0m\u001b[0m\n\u001b[1;32m-> 2527\u001b[1;33m                 \u001b[1;32mreturn\u001b[0m \u001b[0mself\u001b[0m\u001b[1;33m.\u001b[0m\u001b[0m_engine\u001b[0m\u001b[1;33m.\u001b[0m\u001b[0mget_loc\u001b[0m\u001b[1;33m(\u001b[0m\u001b[0mself\u001b[0m\u001b[1;33m.\u001b[0m\u001b[0m_maybe_cast_indexer\u001b[0m\u001b[1;33m(\u001b[0m\u001b[0mkey\u001b[0m\u001b[1;33m)\u001b[0m\u001b[1;33m)\u001b[0m\u001b[1;33m\u001b[0m\u001b[0m\n\u001b[0m\u001b[0;32m   2528\u001b[0m \u001b[1;33m\u001b[0m\u001b[0m\n\u001b[0;32m   2529\u001b[0m         \u001b[0mindexer\u001b[0m \u001b[1;33m=\u001b[0m \u001b[0mself\u001b[0m\u001b[1;33m.\u001b[0m\u001b[0mget_indexer\u001b[0m\u001b[1;33m(\u001b[0m\u001b[1;33m[\u001b[0m\u001b[0mkey\u001b[0m\u001b[1;33m]\u001b[0m\u001b[1;33m,\u001b[0m \u001b[0mmethod\u001b[0m\u001b[1;33m=\u001b[0m\u001b[0mmethod\u001b[0m\u001b[1;33m,\u001b[0m \u001b[0mtolerance\u001b[0m\u001b[1;33m=\u001b[0m\u001b[0mtolerance\u001b[0m\u001b[1;33m)\u001b[0m\u001b[1;33m\u001b[0m\u001b[0m\n",
      "\u001b[1;32mpandas/_libs/index.pyx\u001b[0m in \u001b[0;36mpandas._libs.index.IndexEngine.get_loc\u001b[1;34m()\u001b[0m\n",
      "\u001b[1;32mpandas/_libs/index.pyx\u001b[0m in \u001b[0;36mpandas._libs.index.IndexEngine.get_loc\u001b[1;34m()\u001b[0m\n",
      "\u001b[1;32mpandas/_libs/hashtable_class_helper.pxi\u001b[0m in \u001b[0;36mpandas._libs.hashtable.PyObjectHashTable.get_item\u001b[1;34m()\u001b[0m\n",
      "\u001b[1;32mpandas/_libs/hashtable_class_helper.pxi\u001b[0m in \u001b[0;36mpandas._libs.hashtable.PyObjectHashTable.get_item\u001b[1;34m()\u001b[0m\n",
      "\u001b[1;31mKeyError\u001b[0m: '2013'"
     ]
    }
   ],
   "source": [
    "eu_trade['2013']"
   ]
  },
  {
   "cell_type": "code",
   "execution_count": 9,
   "metadata": {},
   "outputs": [],
   "source": [
    "new_columns = dict([(col, col.strip()) for col in eu_trade.columns])"
   ]
  },
  {
   "cell_type": "code",
   "execution_count": 19,
   "metadata": {},
   "outputs": [
    {
     "data": {
      "text/plain": [
       "{'1999 ': '1999',\n",
       " '2000 ': '2000',\n",
       " '2001 ': '2001',\n",
       " '2002 ': '2002',\n",
       " '2003 ': '2003',\n",
       " '2004 ': '2004',\n",
       " '2005 ': '2005',\n",
       " '2006 ': '2006',\n",
       " '2007 ': '2007',\n",
       " '2008 ': '2008',\n",
       " '2009 ': '2009',\n",
       " '2010 ': '2010',\n",
       " '2011 ': '2011',\n",
       " '2012 ': '2012',\n",
       " '2013 ': '2013',\n",
       " '2014 ': '2014',\n",
       " '2015 ': '2015',\n",
       " 'indic_et,sitc06,partner,geo\\\\time': 'indic_et,sitc06,partner,geo\\\\time'}"
      ]
     },
     "execution_count": 19,
     "metadata": {},
     "output_type": "execute_result"
    }
   ],
   "source": [
    "new_columns"
   ]
  },
  {
   "cell_type": "code",
   "execution_count": 23,
   "metadata": {},
   "outputs": [],
   "source": [
    "eu_trade = eu_trade.rename(columns=new_columns)"
   ]
  },
  {
   "cell_type": "code",
   "execution_count": 24,
   "metadata": {},
   "outputs": [
    {
     "data": {
      "text/plain": [
       "Index(['indic_et,sitc06,partner,geo\\time', '2015', '2014', '2013', '2012',\n",
       "       '2011', '2010', '2009', '2008', '2007', '2006', '2005', '2004', '2003',\n",
       "       '2002', '2001', '2000', '1999'],\n",
       "      dtype='object')"
      ]
     },
     "execution_count": 24,
     "metadata": {},
     "output_type": "execute_result"
    }
   ],
   "source": [
    "eu_trade.columns"
   ]
  },
  {
   "cell_type": "code",
   "execution_count": 25,
   "metadata": {},
   "outputs": [
    {
     "data": {
      "text/plain": [
       "0         2.4 \n",
       "1         9.0 \n",
       "2         0.6 \n",
       "3         0.1 \n",
       "4         1.6 \n",
       "5        16.3 \n",
       "6         3.6 \n",
       "7         0.3 \n",
       "8         1.0 \n",
       "9         8.8 \n",
       "10      100.0 \n",
       "11        0.3 \n",
       "12       12.1 \n",
       "13        1.8 \n",
       "14        2.5 \n",
       "15        6.8 \n",
       "16        0.7 \n",
       "17        0.3 \n",
       "18        0.4 \n",
       "19        0.0 \n",
       "20       16.9 \n",
       "21        5.0 \n",
       "22        1.2 \n",
       "23        0.8 \n",
       "24        1.7 \n",
       "25        0.3 \n",
       "26        0.8 \n",
       "27        4.6 \n",
       "28        2.5 \n",
       "29        8.9 \n",
       "         ...  \n",
       "9298     48.2 \n",
       "9299     23.4 \n",
       "9300     33.6 \n",
       "9301     40.3 \n",
       "9302     29.5 \n",
       "9303     23.2 \n",
       "9304     35.3 \n",
       "9305     30.0 \n",
       "9306     17.9 \n",
       "9307     52.7 \n",
       "9308     44.7 \n",
       "9309     37.9 \n",
       "9310     33.7 \n",
       "9311     32.2 \n",
       "9312     33.1 \n",
       "9313     28.3 \n",
       "9314     32.7 \n",
       "9315     44.6 \n",
       "9316     39.7 \n",
       "9317     20.8 \n",
       "9318     20.0 \n",
       "9319     29.0 \n",
       "9320     53.7 \n",
       "9321     31.0 \n",
       "9322     28.0 \n",
       "9323     24.2 \n",
       "9324     31.1 \n",
       "9325     29.9 \n",
       "9326     25.7 \n",
       "9327     48.2 \n",
       "Name: 2013, Length: 9328, dtype: object"
      ]
     },
     "execution_count": 25,
     "metadata": {},
     "output_type": "execute_result"
    }
   ],
   "source": [
    "eu_trade['2013']"
   ]
  },
  {
   "cell_type": "code",
   "execution_count": 26,
   "metadata": {},
   "outputs": [
    {
     "ename": "SyntaxError",
     "evalue": "invalid syntax (<ipython-input-26-d51d8f57dcc4>, line 1)",
     "output_type": "error",
     "traceback": [
      "\u001b[1;36m  File \u001b[1;32m\"<ipython-input-26-d51d8f57dcc4>\"\u001b[1;36m, line \u001b[1;32m1\u001b[0m\n\u001b[1;33m    eu_trade.2013\u001b[0m\n\u001b[1;37m                ^\u001b[0m\n\u001b[1;31mSyntaxError\u001b[0m\u001b[1;31m:\u001b[0m invalid syntax\n"
     ]
    }
   ],
   "source": [
    "eu_trade.2013"
   ]
  },
  {
   "cell_type": "code",
   "execution_count": 27,
   "metadata": {},
   "outputs": [],
   "source": [
    "eu_trade['my_col'] = 1"
   ]
  },
  {
   "cell_type": "code",
   "execution_count": 28,
   "metadata": {},
   "outputs": [
    {
     "data": {
      "text/plain": [
       "0       1\n",
       "1       1\n",
       "2       1\n",
       "3       1\n",
       "4       1\n",
       "5       1\n",
       "6       1\n",
       "7       1\n",
       "8       1\n",
       "9       1\n",
       "10      1\n",
       "11      1\n",
       "12      1\n",
       "13      1\n",
       "14      1\n",
       "15      1\n",
       "16      1\n",
       "17      1\n",
       "18      1\n",
       "19      1\n",
       "20      1\n",
       "21      1\n",
       "22      1\n",
       "23      1\n",
       "24      1\n",
       "25      1\n",
       "26      1\n",
       "27      1\n",
       "28      1\n",
       "29      1\n",
       "       ..\n",
       "9298    1\n",
       "9299    1\n",
       "9300    1\n",
       "9301    1\n",
       "9302    1\n",
       "9303    1\n",
       "9304    1\n",
       "9305    1\n",
       "9306    1\n",
       "9307    1\n",
       "9308    1\n",
       "9309    1\n",
       "9310    1\n",
       "9311    1\n",
       "9312    1\n",
       "9313    1\n",
       "9314    1\n",
       "9315    1\n",
       "9316    1\n",
       "9317    1\n",
       "9318    1\n",
       "9319    1\n",
       "9320    1\n",
       "9321    1\n",
       "9322    1\n",
       "9323    1\n",
       "9324    1\n",
       "9325    1\n",
       "9326    1\n",
       "9327    1\n",
       "Name: my_col, Length: 9328, dtype: int64"
      ]
     },
     "execution_count": 28,
     "metadata": {},
     "output_type": "execute_result"
    }
   ],
   "source": [
    "eu_trade.my_col"
   ]
  },
  {
   "cell_type": "code",
   "execution_count": 32,
   "metadata": {},
   "outputs": [],
   "source": [
    "eu_trade = eu_trade.drop('my_col', axis=1)"
   ]
  },
  {
   "cell_type": "code",
   "execution_count": 33,
   "metadata": {},
   "outputs": [
    {
     "data": {
      "text/plain": [
       "Index(['indic_et,sitc06,partner,geo\\time', '2015', '2014', '2013', '2012',\n",
       "       '2011', '2010', '2009', '2008', '2007', '2006', '2005', '2004', '2003',\n",
       "       '2002', '2001', '2000', '1999'],\n",
       "      dtype='object')"
      ]
     },
     "execution_count": 33,
     "metadata": {},
     "output_type": "execute_result"
    }
   ],
   "source": [
    "eu_trade.columns"
   ]
  },
  {
   "cell_type": "code",
   "execution_count": 35,
   "metadata": {},
   "outputs": [
    {
     "data": {
      "text/plain": [
       "indic_et,sitc06,partner,geo\\time    CONT_EXP_EU,SITC0_1,EU27,CY\n",
       "2015                                                       0.1 \n",
       "2014                                                       0.1 \n",
       "2013                                                       0.1 \n",
       "2012                                                       0.0 \n",
       "2011                                                       0.1 \n",
       "2010                                                       0.1 \n",
       "2009                                                       0.1 \n",
       "2008                                                       0.1 \n",
       "2007                                                       0.1 \n",
       "2006                                                       0.1 \n",
       "2005                                                       0.1 \n",
       "2004                                                       0.1 \n",
       "2003                                                       0.1 \n",
       "2002                                                       0.1 \n",
       "2001                                                       0.1 \n",
       "2000                                                       0.1 \n",
       "1999                                                       0.1 \n",
       "Name: 3, dtype: object"
      ]
     },
     "execution_count": 35,
     "metadata": {},
     "output_type": "execute_result"
    }
   ],
   "source": [
    "eu_trade.iloc[3]"
   ]
  },
  {
   "cell_type": "code",
   "execution_count": 36,
   "metadata": {},
   "outputs": [
    {
     "data": {
      "text/plain": [
       "0          CONT_EXP_EU,SITC0_1,EU27,AT\n",
       "1          CONT_EXP_EU,SITC0_1,EU27,BE\n",
       "2          CONT_EXP_EU,SITC0_1,EU27,BG\n",
       "3          CONT_EXP_EU,SITC0_1,EU27,CY\n",
       "4          CONT_EXP_EU,SITC0_1,EU27,CZ\n",
       "5          CONT_EXP_EU,SITC0_1,EU27,DE\n",
       "6          CONT_EXP_EU,SITC0_1,EU27,DK\n",
       "7          CONT_EXP_EU,SITC0_1,EU27,EE\n",
       "8          CONT_EXP_EU,SITC0_1,EU27,EL\n",
       "9          CONT_EXP_EU,SITC0_1,EU27,ES\n",
       "10       CONT_EXP_EU,SITC0_1,EU27,EU27\n",
       "11         CONT_EXP_EU,SITC0_1,EU27,FI\n",
       "12         CONT_EXP_EU,SITC0_1,EU27,FR\n",
       "13         CONT_EXP_EU,SITC0_1,EU27,HU\n",
       "14         CONT_EXP_EU,SITC0_1,EU27,IE\n",
       "15         CONT_EXP_EU,SITC0_1,EU27,IT\n",
       "16         CONT_EXP_EU,SITC0_1,EU27,LT\n",
       "17         CONT_EXP_EU,SITC0_1,EU27,LU\n",
       "18         CONT_EXP_EU,SITC0_1,EU27,LV\n",
       "19         CONT_EXP_EU,SITC0_1,EU27,MT\n",
       "20         CONT_EXP_EU,SITC0_1,EU27,NL\n",
       "21         CONT_EXP_EU,SITC0_1,EU27,PL\n",
       "22         CONT_EXP_EU,SITC0_1,EU27,PT\n",
       "23         CONT_EXP_EU,SITC0_1,EU27,RO\n",
       "24         CONT_EXP_EU,SITC0_1,EU27,SE\n",
       "25         CONT_EXP_EU,SITC0_1,EU27,SI\n",
       "26         CONT_EXP_EU,SITC0_1,EU27,SK\n",
       "27         CONT_EXP_EU,SITC0_1,EU27,UK\n",
       "28         CONT_EXP_EU,SITC0_1,EU28,AT\n",
       "29         CONT_EXP_EU,SITC0_1,EU28,BE\n",
       "                     ...              \n",
       "9298      PC_TOT_IMP,TOTAL,EXT_EU27,UK\n",
       "9299      PC_TOT_IMP,TOTAL,EXT_EU28,AT\n",
       "9300      PC_TOT_IMP,TOTAL,EXT_EU28,BE\n",
       "9301      PC_TOT_IMP,TOTAL,EXT_EU28,BG\n",
       "9302      PC_TOT_IMP,TOTAL,EXT_EU28,CY\n",
       "9303      PC_TOT_IMP,TOTAL,EXT_EU28,CZ\n",
       "9304      PC_TOT_IMP,TOTAL,EXT_EU28,DE\n",
       "9305      PC_TOT_IMP,TOTAL,EXT_EU28,DK\n",
       "9306      PC_TOT_IMP,TOTAL,EXT_EU28,EE\n",
       "9307      PC_TOT_IMP,TOTAL,EXT_EU28,EL\n",
       "9308      PC_TOT_IMP,TOTAL,EXT_EU28,ES\n",
       "9309    PC_TOT_IMP,TOTAL,EXT_EU28,EU28\n",
       "9310      PC_TOT_IMP,TOTAL,EXT_EU28,FI\n",
       "9311      PC_TOT_IMP,TOTAL,EXT_EU28,FR\n",
       "9312      PC_TOT_IMP,TOTAL,EXT_EU28,HR\n",
       "9313      PC_TOT_IMP,TOTAL,EXT_EU28,HU\n",
       "9314      PC_TOT_IMP,TOTAL,EXT_EU28,IE\n",
       "9315      PC_TOT_IMP,TOTAL,EXT_EU28,IT\n",
       "9316      PC_TOT_IMP,TOTAL,EXT_EU28,LT\n",
       "9317      PC_TOT_IMP,TOTAL,EXT_EU28,LU\n",
       "9318      PC_TOT_IMP,TOTAL,EXT_EU28,LV\n",
       "9319      PC_TOT_IMP,TOTAL,EXT_EU28,MT\n",
       "9320      PC_TOT_IMP,TOTAL,EXT_EU28,NL\n",
       "9321      PC_TOT_IMP,TOTAL,EXT_EU28,PL\n",
       "9322      PC_TOT_IMP,TOTAL,EXT_EU28,PT\n",
       "9323      PC_TOT_IMP,TOTAL,EXT_EU28,RO\n",
       "9324      PC_TOT_IMP,TOTAL,EXT_EU28,SE\n",
       "9325      PC_TOT_IMP,TOTAL,EXT_EU28,SI\n",
       "9326      PC_TOT_IMP,TOTAL,EXT_EU28,SK\n",
       "9327      PC_TOT_IMP,TOTAL,EXT_EU28,UK\n",
       "Name: indic_et,sitc06,partner,geo\\time, Length: 9328, dtype: object"
      ]
     },
     "execution_count": 36,
     "metadata": {},
     "output_type": "execute_result"
    }
   ],
   "source": [
    "eu_trade.iloc[:,0]"
   ]
  },
  {
   "cell_type": "code",
   "execution_count": 40,
   "metadata": {},
   "outputs": [],
   "source": [
    "eu_trade.iloc?"
   ]
  }
 ],
 "metadata": {
  "kernelspec": {
   "display_name": "Python 3",
   "language": "python",
   "name": "python3"
  },
  "language_info": {
   "codemirror_mode": {
    "name": "ipython",
    "version": 3
   },
   "file_extension": ".py",
   "mimetype": "text/x-python",
   "name": "python",
   "nbconvert_exporter": "python",
   "pygments_lexer": "ipython3",
   "version": "3.6.3"
  }
 },
 "nbformat": 4,
 "nbformat_minor": 2
}
